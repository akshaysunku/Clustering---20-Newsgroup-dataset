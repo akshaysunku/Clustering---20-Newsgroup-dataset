{
 "cells": [
  {
   "cell_type": "markdown",
   "metadata": {},
   "source": [
    "Topic modelling is one of the important and typical task in unsupervised machine learning. Assigning words to topics, which can be from a web page, library book, media articles etc. has many applications like e.g. spam filtering, email routing, sentiment analysis etc.<br>\n",
    "Here we are going to use the 20 Newsgroups dataset which is a collection of approximately 20,000 news groups documents, partitioned nearly evenly across 20 different newsgroups which has become a popular dataset for text classification and text clustering."
   ]
  },
  {
   "cell_type": "code",
   "execution_count": 1,
   "metadata": {},
   "outputs": [],
   "source": [
    "# import all the necessary libraries\n",
    "import pandas as pd\n",
    "from sklearn.feature_extraction.text import CountVectorizer\n",
    "from sklearn.feature_extraction.text import TfidfVectorizer\n",
    "from sklearn.datasets import fetch_20newsgroups \n",
    "from sklearn.decomposition import LatentDirichletAllocation\n",
    "from sklearn.cluster import KMeans\n",
    "import warnings\n",
    "warnings.filterwarnings(\"ignore\")"
   ]
  },
  {
   "cell_type": "markdown",
   "metadata": {},
   "source": [
    "Since the 20 news groups can be categorized into 6 topics, we consider 1 group form each group for clustering."
   ]
  },
  {
   "cell_type": "code",
   "execution_count": 8,
   "metadata": {},
   "outputs": [
    {
     "data": {
      "text/plain": [
       "['From: cwilliam@tigger.cs.colorado.edu (Christopher Williamson)\\nSubject: ** Oscilloscope for sale $99 + probes $25 ea. ** \\nNntp-Posting-Host: tigger.cs.colorado.edu\\nOrganization: University of Colorado at Boulder\\nDistribution: na\\nLines: 13\\n\\nI have a Tektronix T921 15Mhz scope for sale.  It is a nice, simple\\nunit to learn on.  I used it while I was in school.  If you want one\\nto play with at home, this is easy and inexpensive.  It has a nice\\nhandle and is quite lightweight and easy to move around.\\n\\nI will consider selling the probes seperately for $25 ea.  They are HP\\n10017A probes suitable for this type of scope.  The probes are NOT\\nincluded in the price of $99 for the scope.\\n\\nIf you need more technical info, you will have to come look at it, as\\nI am not a scope expert and what I have said is all I know.\\n\\nChris\\n',\n",
       " \"From: nick@sfb256.iam.uni-bonn.de (   Nikan B Firoozye )\\nSubject: Re: Sunrise/ sunset times\\nOrganization: Applied Math, University of Bonn, Germany\\nLines: 15\\n\\nA related question (which I haven't given that much serious thought \\nto): at what lattitude is the average length of the day (averaged \\nover the whole year) maximized? Is this function a constant=\\n12 hours? Is it truly symmetric about the equator? Or is\\nthere some discrepancy due to the fact that the orbit is elliptic\\n(or maybe the difference is enough to change the temperature and\\nmake the seasons in the southern hemisphere more bitter, but\\nis far too small to make a sizeable difference in daylight\\nhours)?\\n\\nI want to know where to move.\\n\\n\\t-Nick Firoozye\\n\\tnick@sfb256.iam.uni-bonn.de\\n\\n\",\n",
       " 'Subject: A word of advice\\nFrom: jcopelan@nyx.cs.du.edu (The One and Only)\\nOrganization: Nyx, Public Access Unix at U. of Denver Math/CS dept.\\nSummary: was Re: Yeah, Right\\nLines: 14\\n\\nIn article <65882@mimsy.umd.edu> mangoe@cs.umd.edu (Charley Wingate) writes:\\n>\\n>I\\'ve said enough times that there is no \"alternative\" that should think you\\n>might have caught on by now.  And there is no \"alternative\", but the point\\n>is, \"rationality\" isn\\'t an alternative either.  The problems of metaphysical\\n>and religious knowledge are unsolvable-- or I should say, humans cannot\\n>solve them.\\n\\nHow does that saying go: Those who say it can\\'t be done shouldn\\'t interrupt\\nthose who are doing it.\\n\\nJim\\n--\\nHave you washed your brain today?\\n',\n",
       " \"From: jerry@sheldev.shel.isc-br.com (Gerald Lanza)\\nSubject: Re: The 1964 Phillies: deja vu?\\nKeywords: Phillies\\nOrganization: Olivetti North America (Shelton, CT)\\nLines: 21\\n\\nIn article <1993Apr14.222601.21160@cabell.vcu.edu> csc2imd@cabell.vcu.edu (Ian M. Derby) writes:\\n>\\n>After reading my local paper today, I found out that the Phillies\\n>started the 1964 season at 10-2.  I am not as old as 1964, but I've\\n>heard many talk about the serious choke job the Phillies did that\\n>season. They were ahead of the Cardinals by 15 games that season in\\n>mid-August.  They managed to lose a bunch from then on and the\\n>Cardinals took the division.  15!!! games ahead and lost it.... I\\n>hope this season is MUCH different.\\n\\n\\n\\tStrictly from memory, I think the Phillies were something like\\n\\tten games up with 12 to go, lost 10 in a row, and 11 of last 12\\n\\tto lose to the Cardinals. Seems impossible, but thats how I\\n\\tremember it. I also felt at the time that Johnny Callison of\\n\\tthe Phillies lost the MVP as a by-product of their swoon.\\n\\n\\n\\t\\t\\t\\t\\tjerry\\n\\n\\tP.S. In 1964, a single team out of 8 won the pennant; no divisions.\\n\",\n",
       " 'From: tnyurkiw@descartes.uwaterloo.ca (TN)\\nSubject: definition of 2nd\\nOrganization: University of Waterloo\\nLines: 9\\n\\n\\n\\tThe debate over the Second Amendment rages on.\\nArguments continue over what a \"well-regulated militia\"\\nis and what TRKBA means in practical terms.  However, the\\nONLY authority in this area, is a binding court decision\\non the matter.  Even a decision in this area is subject to\\nan overturning by a higher court.  Is there anyone who\\nhas the facts of a legal precedent, preferably a Supreme\\nCourt decision on the specific meaning of the 2nd Amendment?\\n',\n",
       " \"From: jrogoff@scott.skidmore.edu (jay rogoff)\\nSubject: Re: best homeruns\\nDistribution: rec\\nOrganization: Skidmore College, Saratoga Springs NY\\nLines: 5\\n\\nOn two separate occasions I saw Dick Allen (back when he was Richie)\\nhomer at Shea off the middle of the black centerfield hitter's\\nbackground screen.  I think both shots would have traveled 500 feet.\\n\\nJay\\n\",\n",
       " 'From: kennejs@a.cs.okstate.edu (KENNEDY JAMES SCOT)\\nSubject: Re: A universal RIGHT to bear arms? NOT!\\nOrganization: Oklahoma State University, Computer Science, Stillwater\\nLines: 73\\n\\nnathan@laplace.biology.yale.edu (Nathan F. Janette) writes:\\n>In article <1993Apr2.080842.3554@a.cs.okstate.edu> kennejs@a.cs.okstate.edu  \\n(KENNEDY JAMES SCOT) writes:\\n> gary@ke4zv.uucp (Gary Coffman) writes:\\n>> >In article <1993Apr1.173759.4636@cs.yale.edu>  \\nnathan@laplace.biology.yale.edu writes:\\n>> >>In article <C4sK5w.Lsr@ms.uky.edu> miles@ms.uky.edu (Stephen D. Grant)  \\nwrites:\\n>> >>> nathan@laplace.biology.yale.edu (Nathan F. Janette) writes:\\n>> >> >\\n>> >>> >I suppose that\\'s true if you maintain that AK-47s and AR-15s are hunting\\n>> >>> >weapons.  I think they are fun to \"plink\" cans/targets/random VC with,\\n>> >>> >but not suitable for \"real\" hunting.  \\n>> >>> \\n>> >>>  Wrong. Both are legal to hunt with here in Kentucky. I have a picture of\\n>> >>>  a friend with a nice 8-point buck which he shot with his AR-15 rifle.\\n>> >>\\n>> >>I don\\'t think many deer hunters would condone your friends choice of\\n>> >>rifle. \\n> \\n>> >I must agree with Nathan. As a deer hunter, I find it inhumane to use\\n>> >underpowered weapons for deer hunting. To kill cleanly with the little\\n>> >.223 requires extremely good marksmanship. Most hunting situations don\\'t\\n>> >allow for \"perfect\" shots. Hunters should use sufficiently powerful\\n>> >weapons to drop the deer with a single hit to the chest. The 7.62x39\\n>> >from the AKS-47 or SKS is adequate to this task, having similar ballistics\\n>> >to the familiar 30-30, but the little .223 is very marginal. In the\\n>> >hands of the expert, or the lucky, it will do, but hunters really\\n>> >should have more respect for their quarry. \\n> \\n>> >Gary\\n> \\n>> I\\'ll agree that the popular 55 gr. loading for .223 rem.  is too small for\\n>> deer-sized game.  However, if you use a 70 gr. semi-spritzer or the Sierra\\n>> 63 gr. semi-pointed bullet this would be suitable (like any round,\\n>> you keep your shots within a reasonable range).  It would still be on the\\n>> lower end of what I\\'d consider acceptable performance, especially those\\n>> long distance shots out West hunting Monster Mule Deer.  The .223 rem. has\\n>> been declared legal for deer hunting in Oklahoma.\\n> \\n>> The .223 is excellent for varmit hunting and pest control.  The AR-15 in\\n>> particular is well suited, given its heavy barrel and heat shielded foregrip.\\n>> Add a high-power scope, and you\\'re in \"Dog heaven\".\\n> \\n>> However, I don\\'t think Nathan Janette was refering to the specific chambering\\n>> of the rifle in question.  Maybe he thinks self loading rifles have no\\n>> place in deer hunting.  That may (or may not) be his opinion, but many\\n>> sportsmen do use self loading rifles and shotguns.\\n\\n>Wrongo, NRA man.  I was definitely referring to the round, not the\\n>auto-loading aspect of the rifle.  I have no problem with *responsible*\\n>hunting.  That doesn\\'t include machine guns from choppers, but a semi is\\n>fine.  My uncle has bagged several deer with 12 gauge slugs.  I would prefer\\n>that a hunter use as much of the catch as possible, and I don\\'t condone\\n>hunting for \"sport\" only. \\n\\n>IMHO, of course.  \\n\\nTwo questions:\\n\\n1)  You asserted that both the AR-15 and AK-47 are not suitable for\\n   \"real hunting\".  If you have no problem with hunting, or using\\n   self loading rifles for hunting, why did you say this?  If not\\n   for deer, then what about other, smaller game?\\n\\n2)  When did I get the nickname \"NRA man\"?  Notice I have never referred\\n   to you as \"Janette\" which you don\\'t seem to like.  Do I get any\\n   super-powers, like Spider Man or Powdered Toast Man?\\n\\nScott Kennedy    Brewer, Patriot, and now NRA-Man, defender of Truth,\\n                 Justice, and the 2nd Amendment.\\n\\nkennejs@a.cs.okstate.edu\\n',\n",
       " 'From: betz@gozer.idbsu.edu (Andrew Betz)\\nSubject: Re: Ban All Firearms !\\nNntp-Posting-Host: gozer\\nOrganization: SigSauer Fan Club \\nLines: 58\\n\\nIn article <1993Apr14.184448.2331@gnv.ifas.ufl.edu> jrm@gnv.ifas.ufl.edu writes:\\n>\\tIf alcohol were again banned today, it would be MUCH more\\n>\\tdifficult to manage a large-scale smuggling operation. \\n>\\tThe cops now rank just a narrow notch below the military\\n>\\tin communications, intelligence gathering and firepower.\\n\\nProof by assertion!  I love it!  Uh, please explain why the smugglers\\ndo not also rank a notch below (or above) the military in terms\\nof communications, intelligence gathering (e.g., why fight officials\\nwhen you can bribe them...\"I\\'ll give you a hundred grand to let that\\nsemi past...\"), and firepower. \\n\\n>\\tIn a similar vein, the amount of marijuana smuggled into\\n>\\tthis country has greatly decreased. This is because its\\n>\\tvalue-per-pound is very low when compared to cocaine or\\n>\\theroin. It\\'s simply not worth the risk, it\\'s uneconomical.\\n>\\tNow, most reefer is domestic. There is less pressure on\\n>\\tthe domestic producer (showy raids notwithstanding) and\\n>\\tthus it is economical. Of note though ... domestic reefer\\n>\\tis now very strong, so a small volume goes a long way.\\n>\\tYou cannot make alcohol stronger than 200 proof - not a\\n>\\tgood dollar/pound deal. \\n>\\nWhat\\'s the point here?  You\\'re arguing that the black market\\nWORKS (which it does, of course).  \\n\\n>\\tFirearms tend to fall into this low dollar/pound area.\\n\\nThis is the wrong way to quantify things.  The smuggler would\\nbe concerned about value/cubic foot.  Go to a gun show and\\nprice out a crate of good quality handguns.  \\n\\n>\\tIt would not be economic to smuggle them in. All production\\n>\\twould have to be local. There are not all that many people\\n\\nWhat\\'s \"local?\"  \\n\\n>\\twho have both the skill AND motivation to assemble worthwhile\\n>\\tfirearms from scratch. High-ranking crime figures could\\n\\nWhat is a worthwhile firearm?  Hell, anything that WORKS!  Go\\nget yourself a copy of the Army\\'s 1969 Improvised Munitions Manual.\\nSee how easy it is to make a functional firearm.\\n\\n>\\tobtain imported Uzis and such, but the average person, and\\n>\\taverage thug, would be lucky to get a zip-gun - and would\\n>\\tpay through the nose for it. \\n\\nIf paying $10 for inconspicuous parts at the local K-Mart is\\n\"through the nose.\" \\n\\nDrew\\n--\\nbetz@gozer.idbsu.edu\\n*** brought into your terminal from the free state of idaho ***\\n*** when you outlaw rights, only outlaws will have rights   ***\\n*** spook fodder: fema, nsa, clinton, gore, insurrection, nsc,\\n    semtex, neptunium, terrorist, cia, mi5, mi6, kgb, deuterium\\n',\n",
       " 'From: msjohnso@donald.WichitaKS.NCR.COM (Mark Johnson)\\nSubject: Re: Big amateur rockets\\nOrganization: NCR Corporation Wichita, KS\\nLines: 86\\n\\npbd@runyon.cim.cdc.com (Paul Dokas) writes:\\n\\n>I was reading Popular Science this morning and was surprised by an ad in\\n>the back.  I know that a lot of the ads in the back of PS are fringe\\n>science or questionablely legal, but this one really grabbed my attention.\\n>It was from a company name \"Personal Missle, Inc.\" or something like that.\\n\\nThe company was probably \"Public Missiles, Inc\" of Michigan.\\n\\n>Anyhow, the ad stated that they\\'d sell rockets that were up to 20\\' in length\\n>and engines of sizes \"F\" to \"M\".  They also said that some rockets will\\n>reach 50,000 feet.\\n\\nYup.\\n\\n>Now, aside from the obvious dangers to any amateur rocketeer using one\\n>of these beasts, isn\\'t this illegal?  I can\\'t imagine the FAA allowing\\n>people to shoot rockets up through the flight levels of passenger planes.\\n>Not to even mention the problem of locating a rocket when it comes down.\\n\\nNope, it\\'s not illegal. It is, however, closely regulated. In order to \\npurchase and use the big rocket motors required, it is necessary to be\\none of the following:\\na) An employee of a government agency.\\nb) An employee or student at a university doing research involving rockets.\\nc) A member or representative of an educational organization involved in\\nresearch or other uses of rockets. There are two such organizations: \\nThe Tripoli Rocketry Association and the National Association of Rocketry.\\nMembers of either organization must demonstrate proficiency in construction\\nand flight before they are allowed to purchase large motors on their own.\\n\\nThe FAA will issue a waiver of its regulations, upon request, to any \\norganization which can persuade them it has taken adequate precautions \\nto avoid conflicts with aircraft. The usual stipulations are:\\n- Only operation up to a specified ceiling is allowed. Depending on the\\nlocation, this ceiling may be from 5000 to 50000 feet AGL. \\n- The operator of the rocket is responsible for avoiding any aircraft\\nwithin the operating radius around the launch site.\\n- Flight into clouds or beyond visual range in haze is expressly prohibited.\\n- The FAA will provide a NOTAM informing other users of the airspace that\\nunmanned rocket operations are taking place at the specified place and time.\\n\\nMost of the launches that are held (and there are dozens of them every year)\\nare held in areas where air traffic is relatively light, such as over the\\nwestern deserts (the Black Rock Desert north of Reno is particularly popular\\nsince it is 25 x 150 miles of *nothing to hit* on the ground).\\n\\nThe two rocketry associations test and approve motors for their members\\'\\nuse, to insure safety. Depending on motor size, the launcher setback is\\nfrom 50 to 500 or more feet. \\n\\nBy the way, rockets under 1 lb and powered by an \"F\" motor are exempt from\\nmost Federal regulations on unmanned rockets anyway. See FAR 101, Subpart\\nC, for details.\\n\\nAs for recovery...although the higher altitude rockets can reach up to\\n50,000 feet, most of them only get to 2,000 to 5,000 feet. The typical\\nrocket is 2 to 6 inches in diameter, and carries a 3 to 6 foot parachute,\\nor multiple parachutes, depending on the payload. Many rockets also carry\\neither a small transmitter or an audio sounder--particularly at launches\\nin the eastern US, where there are more obstructions.\\n\\nCamera, telemetry transmitter, and video payloads are becoming quite common.\\n\\n>And no, I\\'m not going to even think of buying one.  I\\'m not that crazy.\\n\\nWhy not? It\\'s a lot of fun...check out the traffic on rec.models.rockets\\nfor information about the model (3 lb and under) and high power (everything\\nbigger) rocket hobbies. As with all dangerous activities, the key is to\\npractice safety. I\\'ve been flying consumer rockets ranging up to 4-5 lbs\\ntakeoff weight for 27 years, and still have all my extremities intact.\\n\\n>-Paul \"mine\\'ll do 50,000 feet and carries 50 pounds of dynamite\" Dokas\\n\\nThat\\'s another thing. NO EXPLOSIVE WARHEADS OF ANY KIND ARE ALLOWED ON THESE\\nROCKETS. NONE! Please forgive me for shouting, but that\\'s one of the biggest\\nmisconceptions people have about our hobby. \\n\\n>/*            Just remember, you *WILL* die someday.             */\\nTrue. But it will not be related to the rocket hobby, unless I get \\nhit while crossing a road with a rocket in my hand. \\n-- \\nMark Johnson                          USnail: NCR Peripheral Products Division\\nE-mail:  Mark.Johnson@WichitaKS.NCR.COM       3718 N. Rock Rd.\\nVoice: (316) 636-8189 [V+ 654-8189]           Wichita, KS  67226\\n[Non-business email: 76670.1775@compuserve.com]\\n',\n",
       " 'Subject: Re: \"Proper gun control?\" What is proper gun cont\\nFrom: kim39@scws8.harvard.edu (John Kim)\\nOrganization: Harvard University Science Center\\nNntp-Posting-Host: scws8.harvard.edu\\nLines: 17\\n\\nIn article <C5JGz5.34J@SSD.intel.com> hays@ssd.intel.com (Kirk Hays) writes:\\n>I\\'d like to point out that I was in error - \"Terminator\" began posting only \\n>six months before he purchased his first firearm, according to private email\\n>from him.\\n>I can\\'t produce an archived posting of his earlier than January 1992,\\n>and he purchased his first firearm in March 1992.\\n>I guess it only seemed like years.\\n>Kirk Hays - NRA Life, seventh generation.\\n\\nI first read and consulted rec.guns in the summer of 1991.  I\\njust purchased my first firearm in early March of this year.\\n\\n NOt for lack of desire for a firearm, you understand.  I could \\nhave purchased a rifle or shotgun but didn\\'t want one.\\n-Case Kim\\n\\n\\n']"
      ]
     },
     "execution_count": 8,
     "metadata": {},
     "output_type": "execute_result"
    }
   ],
   "source": [
    "categories = ['comp.graphics','misc.forsale','rec.sport.baseball','talk.politics.guns','sci.space','alt.atheism']\n",
    "\n",
    "# read the documents with the specified categories\n",
    "dataset = fetch_20newsgroups(subset='train',categories=categories)\n",
    "data_samples = dataset.data\n",
    "data_samples[:10]"
   ]
  },
  {
   "cell_type": "markdown",
   "metadata": {},
   "source": [
    "Text files are actually series of words (ordered). In order to run machine learning algorithms we need to convert the text files into numerical feature vectors. We will be using bag of words model, i.e. we create a document topic matrix with the frequencies. To reduce the weightage of more frequent words we use the tf-idf vectorizer."
   ]
  },
  {
   "cell_type": "code",
   "execution_count": 3,
   "metadata": {},
   "outputs": [
    {
     "data": {
      "text/plain": [
       "(3385, 12863)"
      ]
     },
     "execution_count": 3,
     "metadata": {},
     "output_type": "execute_result"
    }
   ],
   "source": [
    "tf_vectorizer = TfidfVectorizer(stop_words='english', min_df=4)\n",
    "tf = tf_vectorizer.fit_transform(data_samples)\n",
    "tf.shape"
   ]
  },
  {
   "cell_type": "code",
   "execution_count": 4,
   "metadata": {},
   "outputs": [],
   "source": [
    "# perform LDA dimensionality reduction technique\n",
    "lda = LatentDirichletAllocation(n_components=50, random_state=0)\n",
    "X = lda.fit_transform(tf)"
   ]
  },
  {
   "cell_type": "markdown",
   "metadata": {},
   "source": [
    "Now, using KMeans clustering technique, we cluster the important words for each topic and print the top 20 words from each topic "
   ]
  },
  {
   "cell_type": "code",
   "execution_count": 5,
   "metadata": {},
   "outputs": [
    {
     "name": "stdout",
     "output_type": "stream",
     "text": [
      "cluster 0:\n",
      "space nasa gov henry access edu alaska digex moon toronto pat com article writes jpl launch orbit zoo lunar just \n",
      "\n",
      "cluster 1:\n",
      "edu com graphics lines subject organization university posting host nntp ca thanks know mail article cs writes files computer image \n",
      "\n",
      "cluster 2:\n",
      "gun com guns edu people stratus fbi weapons don batf firearms writes right article law control cdt think atf like \n",
      "\n",
      "cluster 3:\n",
      "edu baseball year team game players com runs games article writes jewish win season hit cs pitching braves good think \n",
      "\n",
      "cluster 4:\n",
      "god keith edu caltech com atheists people livesey writes sgi morality atheism islam don religion say think islamic moral solntze \n",
      "\n",
      "cluster 5:\n",
      "sale edu 00 offer shipping new condition drive price university lines distribution subject organization asking interested 10 com sell forsale \n",
      "\n"
     ]
    }
   ],
   "source": [
    "# cluster using KMeans\n",
    "km = KMeans(n_clusters=6, init='k-means++', max_iter=100, n_init=1)\n",
    "km.fit(tf)\n",
    "\n",
    "# find the cluster centers\n",
    "order_centroids = km.cluster_centers_.argsort()[:, ::-1]\n",
    "\n",
    "terms = tf_vectorizer.get_feature_names()\n",
    "\n",
    "# print the top 20 words form each cluster\n",
    "for i in range(6):\n",
    "    print(\"cluster %d:\" % i)\n",
    "    for ind in order_centroids[i,:20]:\n",
    "        print('%s' % terms[ind], end = ' ')\n",
    "    print('\\n')\n"
   ]
  },
  {
   "cell_type": "markdown",
   "metadata": {},
   "source": [
    "From the above output, we can observe that <br>\n",
    "Cluster 0 is related to space with words such as space, nasa, henry, moon, orbit, lunar and launch <br>\n",
    "Cluster 1 relates to science with words such as graphics, subject, mail, files, computer and consists of few words from other topics <br>\n",
    "Cluster 2 relates to policics/guns with words such as gun, weapons, firearms, fbi, law <br>\n",
    "Cluster 3 is related to sports <br>\n",
    "Cluster 4 is related to aethism with words such as god, morality, islam, aethists, islamic <br>\n",
    "Cluster 5 mostly relates to education <br>"
   ]
  },
  {
   "cell_type": "markdown",
   "metadata": {},
   "source": [
    "Finally, we find the goodness of the clusters using Homogenity, Completeness and V-measure"
   ]
  },
  {
   "cell_type": "code",
   "execution_count": 6,
   "metadata": {},
   "outputs": [
    {
     "name": "stdout",
     "output_type": "stream",
     "text": [
      "Homogeneity: 0.667\n",
      "Completeness: 0.704\n",
      "V-measure: 0.685\n",
      "Silhouette Coefficient: 0.008\n"
     ]
    }
   ],
   "source": [
    "from sklearn import metrics\n",
    "labels = dataset.target\n",
    "print(\"Homogeneity: %0.3f\" % metrics.homogeneity_score(labels, km.labels_))\n",
    "print(\"Completeness: %0.3f\" % metrics.completeness_score(labels, km.labels_))\n",
    "print(\"V-measure: %0.3f\" % metrics.v_measure_score(labels, km.labels_))\n",
    "print(\"Silhouette Coefficient: %0.3f\" % metrics.silhouette_score(tf, km.labels_, sample_size=1000))"
   ]
  }
 ],
 "metadata": {
  "kernelspec": {
   "display_name": "Python 3",
   "language": "python",
   "name": "python3"
  },
  "language_info": {
   "codemirror_mode": {
    "name": "ipython",
    "version": 3
   },
   "file_extension": ".py",
   "mimetype": "text/x-python",
   "name": "python",
   "nbconvert_exporter": "python",
   "pygments_lexer": "ipython3",
   "version": "3.7.0"
  }
 },
 "nbformat": 4,
 "nbformat_minor": 2
}
